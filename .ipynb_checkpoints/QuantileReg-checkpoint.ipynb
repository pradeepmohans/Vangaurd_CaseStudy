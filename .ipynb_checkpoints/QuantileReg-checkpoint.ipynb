{
 "cells": [
  {
   "cell_type": "code",
   "execution_count": 1,
   "id": "ee502848",
   "metadata": {},
   "outputs": [],
   "source": [
    "import pandas as pd\n",
    "from sklearn.preprocessing import OneHotEncoder, StandardScaler, OrdinalEncoder\n",
    "from sklearn.compose import ColumnTransformer\n",
    "from sklearn.pipeline import Pipeline\n",
    "from sklearn.linear_model import QuantileRegressor\n",
    "from sklearn.metrics import mean_pinball_loss, make_scorer\n",
    "from scipy.stats import loguniform\n",
    "from sklearn.model_selection import GridSearchCV\n",
    "import numpy as np"
   ]
  },
  {
   "cell_type": "markdown",
   "id": "f5f269a1",
   "metadata": {},
   "source": [
    "## Read Train and Test Data "
   ]
  },
  {
   "cell_type": "code",
   "execution_count": 2,
   "id": "aec208f6",
   "metadata": {},
   "outputs": [],
   "source": [
    "train = pd.read_csv(\"train.csv\")\n",
    "test = pd.read_csv(\"test.csv\")"
   ]
  },
  {
   "cell_type": "markdown",
   "id": "a176ab79",
   "metadata": {},
   "source": [
    "## Check for Missing values and replace with the most frequent value"
   ]
  },
  {
   "cell_type": "code",
   "execution_count": 3,
   "id": "7e2c92a8",
   "metadata": {},
   "outputs": [
    {
     "data": {
      "text/plain": [
       "id                 0\n",
       "wi                 0\n",
       "year               0\n",
       "month              0\n",
       "age                0\n",
       "education          0\n",
       "familysize         0\n",
       "urban              0\n",
       "race               0\n",
       "region          6994\n",
       "state          95742\n",
       "marital            0\n",
       "occupation    233483\n",
       "income             0\n",
       "expense            0\n",
       "dtype: int64"
      ]
     },
     "execution_count": 3,
     "metadata": {},
     "output_type": "execute_result"
    }
   ],
   "source": [
    "train.isnull().sum()"
   ]
  },
  {
   "cell_type": "code",
   "execution_count": 4,
   "id": "e753f7d1",
   "metadata": {},
   "outputs": [
    {
     "data": {
      "text/plain": [
       "id            0\n",
       "wi            0\n",
       "year          0\n",
       "month         0\n",
       "age           0\n",
       "education     0\n",
       "familysize    0\n",
       "urban         0\n",
       "race          0\n",
       "region        0\n",
       "state         0\n",
       "marital       0\n",
       "occupation    0\n",
       "income        0\n",
       "expense       0\n",
       "dtype: int64"
      ]
     },
     "execution_count": 4,
     "metadata": {},
     "output_type": "execute_result"
    }
   ],
   "source": [
    "train = train.fillna(train.mode().iloc[0].astype('int64'))\n",
    "train.isnull().sum()"
   ]
  },
  {
   "cell_type": "code",
   "execution_count": 5,
   "id": "038759d2",
   "metadata": {},
   "outputs": [
    {
     "data": {
      "text/plain": [
       "id                0\n",
       "year              0\n",
       "month             0\n",
       "age               0\n",
       "education         0\n",
       "familysize        0\n",
       "urban             0\n",
       "race              0\n",
       "region         1826\n",
       "state         24016\n",
       "marital           0\n",
       "occupation    58171\n",
       "income            0\n",
       "dtype: int64"
      ]
     },
     "execution_count": 5,
     "metadata": {},
     "output_type": "execute_result"
    }
   ],
   "source": [
    "test.isnull().sum()"
   ]
  },
  {
   "cell_type": "code",
   "execution_count": 6,
   "id": "8d29ba3e",
   "metadata": {},
   "outputs": [
    {
     "data": {
      "text/plain": [
       "id            0\n",
       "year          0\n",
       "month         0\n",
       "age           0\n",
       "education     0\n",
       "familysize    0\n",
       "urban         0\n",
       "race          0\n",
       "region        0\n",
       "state         0\n",
       "marital       0\n",
       "occupation    0\n",
       "income        0\n",
       "dtype: int64"
      ]
     },
     "execution_count": 6,
     "metadata": {},
     "output_type": "execute_result"
    }
   ],
   "source": [
    "test = test.fillna(test.mode().iloc[0].astype('int64'))\n",
    "test.isnull().sum()"
   ]
  },
  {
   "cell_type": "markdown",
   "id": "b1b29d5c",
   "metadata": {},
   "source": [
    "## Identify categorical, ordinal and numeric columns"
   ]
  },
  {
   "cell_type": "code",
   "execution_count": 7,
   "id": "34f65baf",
   "metadata": {},
   "outputs": [
    {
     "data": {
      "text/plain": [
       "['id',\n",
       " 'wi',\n",
       " 'year',\n",
       " 'month',\n",
       " 'age',\n",
       " 'education',\n",
       " 'familysize',\n",
       " 'urban',\n",
       " 'race',\n",
       " 'region',\n",
       " 'state',\n",
       " 'marital',\n",
       " 'occupation',\n",
       " 'income',\n",
       " 'expense']"
      ]
     },
     "execution_count": 7,
     "metadata": {},
     "output_type": "execute_result"
    }
   ],
   "source": [
    "columns = train.columns\n",
    "columns  = columns.to_list()\n",
    "categorical_columns=['urban','race','region','state','marital','occupation']\n",
    "ordinal_columns=['education']\n",
    "numeric_columns=['age','familysize','income']\n",
    "weight_column=['wi']\n",
    "target=['expense']\n",
    "id_column=['id']\n",
    "columns"
   ]
  },
  {
   "cell_type": "markdown",
   "id": "39cb2cb2",
   "metadata": {},
   "source": [
    "## Convert types of various columns in train and test data"
   ]
  },
  {
   "cell_type": "code",
   "execution_count": 8,
   "id": "e8de6adf",
   "metadata": {},
   "outputs": [],
   "source": [
    "#Convert cateogrical columns to 'category' type\n",
    "cat_types={c:'category' for c in categorical_columns}\n",
    "train = train.astype(cat_types)\n",
    "#Convert ordinal column to category type\n",
    "train['education'] = train['education'].astype('category')\n",
    "#Get different categories for ordinal column\n",
    "train_ord_categories = train.education.unique().tolist()\n",
    "train_ord_categories.sort()\n",
    "train['education'] = train['education'].cat.set_categories(train_ord_categories,ordered=True)"
   ]
  },
  {
   "cell_type": "code",
   "execution_count": 9,
   "id": "ba814570",
   "metadata": {},
   "outputs": [
    {
     "data": {
      "text/plain": [
       "id               int64\n",
       "year             int64\n",
       "month            int64\n",
       "age              int64\n",
       "education     category\n",
       "familysize       int64\n",
       "urban         category\n",
       "race          category\n",
       "region        category\n",
       "state         category\n",
       "marital       category\n",
       "occupation    category\n",
       "income           int64\n",
       "dtype: object"
      ]
     },
     "execution_count": 9,
     "metadata": {},
     "output_type": "execute_result"
    }
   ],
   "source": [
    "#Convert cateogrical columns to 'category' type\n",
    "cat_types={c:'category' for c in categorical_columns}\n",
    "test = test.astype(cat_types)\n",
    "#Convert ordinal column to category type\n",
    "test['education'] = test['education'].astype('category')\n",
    "#Get different categories for ordinal column\n",
    "test_ord_categories = test.education.unique().tolist()\n",
    "test_ord_categories.sort()\n",
    "test['education'] = test['education'].cat.set_categories(test_ord_categories,ordered=True)\n",
    "test.dtypes"
   ]
  },
  {
   "cell_type": "markdown",
   "id": "9ba26d44",
   "metadata": {},
   "source": [
    "## Create Train and Validation"
   ]
  },
  {
   "cell_type": "code",
   "execution_count": 10,
   "id": "e5b8a279",
   "metadata": {},
   "outputs": [],
   "source": [
    "from sklearn.model_selection import train_test_split\n",
    "a_train,a_validation = train_test_split(train,test_size=0.2)\n",
    "train = pd.DataFrame(a_train,columns=columns)\n",
    "validation = pd.DataFrame(a_validation,columns=columns)"
   ]
  },
  {
   "cell_type": "markdown",
   "id": "42c200b6",
   "metadata": {},
   "source": [
    "## Create X_train, y_train, X_val, y_val"
   ]
  },
  {
   "cell_type": "code",
   "execution_count": 11,
   "id": "2bd29330",
   "metadata": {},
   "outputs": [],
   "source": [
    "X_train = train[categorical_columns+ordinal_columns+numeric_columns]\n",
    "y_train = train[target]\n",
    "sample_weights_train=train[weight_column].to_numpy()\n",
    "sample_weights_train=sample_weights_train.reshape(-1)\n",
    "X_val = validation[categorical_columns+ordinal_columns+numeric_columns]\n",
    "y_val = validation[target]\n",
    "sample_weights_validation=validation[weight_column].to_numpy()\n",
    "sample_weights_validation = sample_weights_validation.reshape(-1)"
   ]
  },
  {
   "cell_type": "markdown",
   "id": "a21fe31a",
   "metadata": {},
   "source": [
    "## Create X_test for final predictions"
   ]
  },
  {
   "cell_type": "code",
   "execution_count": 12,
   "id": "eb30a0e7",
   "metadata": {},
   "outputs": [],
   "source": [
    "X_test = test[categorical_columns+ordinal_columns+numeric_columns]"
   ]
  },
  {
   "cell_type": "markdown",
   "id": "5bcd9015",
   "metadata": {},
   "source": [
    "## Create preprocessor and column transformer for categorical,numerical and ordinal columns"
   ]
  },
  {
   "cell_type": "code",
   "execution_count": 13,
   "id": "9fb9a9fd",
   "metadata": {},
   "outputs": [],
   "source": [
    "categorical_preprocessor = OneHotEncoder(handle_unknown=\"ignore\")\n",
    "numerical_preprocessor = StandardScaler()\n",
    "ordinal_preprocessor = OrdinalEncoder(dtype=int)\n",
    "preprocessor = ColumnTransformer(\n",
    "    [\n",
    "        (\"one-hot-encoder\", categorical_preprocessor, categorical_columns),\n",
    "        (\"standard_scaler\", numerical_preprocessor, numeric_columns),\n",
    "        (\"ordinal-encoder\", ordinal_preprocessor,ordinal_columns),\n",
    "    ]\n",
    ")"
   ]
  },
  {
   "cell_type": "code",
   "execution_count": 14,
   "id": "4e624829",
   "metadata": {},
   "outputs": [],
   "source": [
    "quantiles = [0.005,0.025,0.165,0.25,0.5,0.75,0.835,0.975,0.995]\n",
    "estimators={}\n",
    "scorers = {}\n",
    "for index,q in enumerate(quantiles):\n",
    "    estimators[\"q\"+str(index+1)] = Pipeline([('preprocessor',preprocessor),('model',QuantileRegressor(quantile=q,solver=\"highs\"))])\n",
    "    scorers[\"q\"+str(index+1)] = make_scorer(mean_pinball_loss,alpha=q)"
   ]
  },
  {
   "cell_type": "markdown",
   "id": "462094dd",
   "metadata": {},
   "source": [
    "## Create Hyperparameters for search"
   ]
  },
  {
   "cell_type": "code",
   "execution_count": 15,
   "id": "be615bba",
   "metadata": {},
   "outputs": [],
   "source": [
    "hyperparameters = {\"model__alpha\":np.arange(0.0,1,0.1)}"
   ]
  },
  {
   "cell_type": "code",
   "execution_count": 16,
   "id": "3facfa53",
   "metadata": {},
   "outputs": [],
   "source": [
    "search_cv = {}\n",
    "for q in estimators.keys():\n",
    "    search_cv[q] = GridSearchCV(estimator=estimators[q],\n",
    "                                param_grid=hyperparameters,\n",
    "                                scoring=scorers[q],\n",
    "                                n_jobs=1,\n",
    "                                verbose=10)"
   ]
  },
  {
   "cell_type": "code",
   "execution_count": null,
   "id": "2a4ae4f1",
   "metadata": {},
   "outputs": [
    {
     "name": "stdout",
     "output_type": "stream",
     "text": [
      "Searching best Hyperparameters for q1\n",
      "Fitting 5 folds for each of 10 candidates, totalling 50 fits\n",
      "[CV 1/5; 1/10] START model__alpha=0.0...........................................\n"
     ]
    }
   ],
   "source": [
    "fit_params = {\"model__sample_weight\":sample_weights_train}\n",
    "for q in search_cv.keys():\n",
    "    print(f\"Searching best Hyperparameters for {q}\")\n",
    "    search_cv[q].fit(X_train,y_train.values.ravel(),**fit_params)"
   ]
  },
  {
   "cell_type": "markdown",
   "id": "000634f5",
   "metadata": {},
   "source": [
    "## Predict on entire training set and calculate mean_pinball_loss_train for all quantiles"
   ]
  },
  {
   "cell_type": "code",
   "execution_count": null,
   "id": "3a6961f0",
   "metadata": {},
   "outputs": [],
   "source": [
    "mpl_train={}\n",
    "for i,q in enumerate(search_cv.keys()):\n",
    "    y_pred=search_cv[q].predict(X_train)\n",
    "    mpl_train[q]=mean_pinball_loss(y_train.values.ravel(),y_pred,sample_weight=sample_weights_train,alpha=quantiles[i])\n",
    "mpl_train"
   ]
  },
  {
   "cell_type": "markdown",
   "id": "74499bea",
   "metadata": {},
   "source": [
    "## Predict on validation set and calculate mean_pinball_loss for all quantiles"
   ]
  },
  {
   "cell_type": "code",
   "execution_count": null,
   "id": "47049302",
   "metadata": {},
   "outputs": [],
   "source": [
    "mpl_val={}\n",
    "for i,q in enumerate(search_cv.keys()):\n",
    "    y_pred = search_cv[q].predict(X_val)\n",
    "    mpl_val[q]=mean_pinball_loss(y_val.values.ravel(),y_pred,sample_weight=sample_weights_validation,alpha=quantiles[i])\n",
    "mpl_val"
   ]
  },
  {
   "cell_type": "markdown",
   "id": "af78d624",
   "metadata": {},
   "source": [
    "## Predict on test set and create output data frame"
   ]
  },
  {
   "cell_type": "code",
   "execution_count": null,
   "id": "add7c855",
   "metadata": {},
   "outputs": [],
   "source": [
    "test_df = test[id_column]\n",
    "for q in search_cv.keys():\n",
    "    test_df[q] = search_cv[q].predict(X_test)"
   ]
  },
  {
   "cell_type": "markdown",
   "id": "845e5903",
   "metadata": {},
   "source": [
    "## write output to test_quantiles_QuantileReg.csv"
   ]
  },
  {
   "cell_type": "code",
   "execution_count": null,
   "id": "3e3006c7",
   "metadata": {},
   "outputs": [],
   "source": [
    "test_df.to_csv('test_quantiles_QuantileReg.csv')"
   ]
  }
 ],
 "metadata": {
  "kernelspec": {
   "display_name": "Python 3 (ipykernel)",
   "language": "python",
   "name": "python3"
  },
  "language_info": {
   "codemirror_mode": {
    "name": "ipython",
    "version": 3
   },
   "file_extension": ".py",
   "mimetype": "text/x-python",
   "name": "python",
   "nbconvert_exporter": "python",
   "pygments_lexer": "ipython3",
   "version": "3.9.7"
  }
 },
 "nbformat": 4,
 "nbformat_minor": 5
}
